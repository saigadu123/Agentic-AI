{
 "cells": [
  {
   "cell_type": "code",
   "execution_count": 51,
   "metadata": {},
   "outputs": [],
   "source": [
    "import os\n",
    "from dotenv import load_dotenv\n",
    "load_dotenv()\n",
    "\n",
    "os.environ[\"GROQ_API_KEY\"] = os.getenv(\"GROQ_API_KEY\")\n",
    "os.environ[\"OPENAI_API_KEY\"] = os.getenv(\"OPENAI_API_KEY\")"
   ]
  },
  {
   "cell_type": "code",
   "execution_count": 52,
   "metadata": {},
   "outputs": [],
   "source": [
    "from langchain_openai import ChatOpenAI\n",
    "from langchain_groq import ChatGroq\n",
    "\n",
    "def add(a:int,b:int)->int:\n",
    "    \"\"\" \n",
    "    Add a and b\n",
    "\n",
    "    Args:\n",
    "        a: first integer\n",
    "        b: second integer\n",
    "    \"\"\"\n",
    "    return a+b\n",
    "\n",
    "def multiply(a:int,b:int)->int:\n",
    "    \"\"\" \n",
    "    Multiply a and b.\n",
    "\n",
    "    Args:\n",
    "        a: first int\n",
    "        b: second int\n",
    "    \"\"\"\n",
    "    return a*b \n",
    "\n",
    "def divide(a:int,b:int)->int:\n",
    "    \"\"\" \n",
    "    Divide a and b.\n",
    "    Args:\n",
    "        a: first int\n",
    "        b: second int\n",
    "    \"\"\"\n",
    "    return a/b\n",
    "\n",
    "tools = [add,multiply,divide]\n",
    "#llm = ChatGroq(model_name=\"qwen-2.5-32b\")\n",
    "llm = ChatOpenAI(model=\"gpt-4o\")\n",
    "llm_with_tools = llm.bind_tools(tools)"
   ]
  },
  {
   "cell_type": "code",
   "execution_count": 53,
   "metadata": {},
   "outputs": [],
   "source": [
    "from typing_extensions import TypedDict\n",
    "from langchain_core.messages import AnyMessage\n",
    "from typing import Annotated\n",
    "from langgraph.graph.message import add_messages\n",
    "\n",
    "class MessageState(TypedDict):\n",
    "    messages: Annotated[list[AnyMessage],add_messages]"
   ]
  },
  {
   "cell_type": "code",
   "execution_count": 54,
   "metadata": {},
   "outputs": [],
   "source": [
    "from langchain_core.messages import HumanMessage,SystemMessage\n",
    "\n",
    "# system message\n",
    "sys_msg = SystemMessage(content=\"You are a helpful assisstant tasked with performing arithmetic on a set of inputs\")\n",
    "\n",
    "def assisstant(state:MessageState):\n",
    "    return {\"messages\":[llm_with_tools.invoke([sys_msg]+state[\"messages\"])]}"
   ]
  },
  {
   "cell_type": "code",
   "execution_count": 55,
   "metadata": {},
   "outputs": [
    {
     "data": {
      "image/png": "[encoded data removed]",
      "text/plain": [
       "<IPython.core.display.Image object>"
      ]
     },
     "metadata": {},
     "output_type": "display_data"
    }
   ],
   "source": [
    "from langgraph.graph import START,END,StateGraph\n",
    "from langgraph.prebuilt import tools_condition\n",
    "from langgraph.prebuilt import ToolNode\n",
    "from IPython.display import display,Image\n",
    "\n",
    "builder = StateGraph(MessageState)\n",
    "\n",
    "builder.add_node(\"assisstant\",assisstant)\n",
    "builder.add_node(\"tools\",ToolNode(tools))\n",
    "\n",
    "builder.add_edge(START,\"assisstant\")\n",
    "builder.add_conditional_edges(\n",
    "    \"assisstant\",\n",
    "    tools_condition\n",
    ")\n",
    "\n",
    "builder.add_edge(\"tools\",\"assisstant\")\n",
    "\n",
    "react_graph = builder.compile()\n",
    "\n",
    "display(Image(react_graph.get_graph().draw_mermaid_png()))"
   ]
  },
  {
   "cell_type": "code",
   "execution_count": 56,
   "metadata": {},
   "outputs": [
    {
     "data": {
      "text/plain": [
       "{'messages': [HumanMessage(content='Add 10 and 14.multiply the output by 2.divide the output by 5', additional_kwargs={}, response_metadata={}, id='ddf33047-150e-4f8e-a46c-3a1f683465ff'),\n",
       "  AIMessage(content='', additional_kwargs={'tool_calls': [{'id': 'call_wNtpvjOmdUBcmtOWnlfiMVfX', 'function': {'arguments': '{\"a\": 10, \"b\": 14}', 'name': 'add'}, 'type': 'function'}, {'id': 'call_NUtOPwPd6mgfLghEIXOTvyYc', 'function': {'arguments': '{\"a\": 24, \"b\": 2}', 'name': 'multiply'}, 'type': 'function'}, {'id': 'call_VSiSdmxegJkZEMMgdTUvbSdw', 'function': {'arguments': '{\"a\": 48, \"b\": 5}', 'name': 'divide'}, 'type': 'function'}], 'refusal': None}, response_metadata={'token_usage': {'completion_tokens': 68, 'prompt_tokens': 151, 'total_tokens': 219, 'completion_tokens_details': {'accepted_prediction_tokens': 0, 'audio_tokens': 0, 'reasoning_tokens': 0, 'rejected_prediction_tokens': 0}, 'prompt_tokens_details': {'audio_tokens': 0, 'cached_tokens': 0}}, 'model_name': 'gpt-4o-2024-08-06', 'system_fingerprint': 'fp_ff092ab25e', 'finish_reason': 'tool_calls', 'logprobs': None}, id='run-ce8f710b-06d5-4531-b3a5-ded49966a4c2-0', tool_calls=[{'name': 'add', 'args': {'a': 10, 'b': 14}, 'id': 'call_wNtpvjOmdUBcmtOWnlfiMVfX', 'type': 'tool_call'}, {'name': 'multiply', 'args': {'a': 24, 'b': 2}, 'id': 'call_NUtOPwPd6mgfLghEIXOTvyYc', 'type': 'tool_call'}, {'name': 'divide', 'args': {'a': 48, 'b': 5}, 'id': 'call_VSiSdmxegJkZEMMgdTUvbSdw', 'type': 'tool_call'}], usage_metadata={'input_tokens': 151, 'output_tokens': 68, 'total_tokens': 219, 'input_token_details': {'audio': 0, 'cache_read': 0}, 'output_token_details': {'audio': 0, 'reasoning': 0}}),\n",
       "  ToolMessage(content='24', name='add', id='e08432bb-6a30-48dd-81fe-b942ee7305b0', tool_call_id='call_wNtpvjOmdUBcmtOWnlfiMVfX'),\n",
       "  ToolMessage(content='48', name='multiply', id='163e7c89-e2df-469d-8267-125511e2fd34', tool_call_id='call_NUtOPwPd6mgfLghEIXOTvyYc'),\n",
       "  ToolMessage(content='9.6', name='divide', id='6f4580b5-92dd-4b18-8c3e-48b556e7a4e9', tool_call_id='call_VSiSdmxegJkZEMMgdTUvbSdw'),\n",
       "  AIMessage(content='Here are the results of your calculations:\\n1. Adding 10 and 14 gives 24.\\n2. Multiplying 24 by 2 gives 48.\\n3. Dividing 48 by 5 gives 9.6.', additional_kwargs={'refusal': None}, response_metadata={'token_usage': {'completion_tokens': 50, 'prompt_tokens': 239, 'total_tokens': 289, 'completion_tokens_details': {'accepted_prediction_tokens': 0, 'audio_tokens': 0, 'reasoning_tokens': 0, 'rejected_prediction_tokens': 0}, 'prompt_tokens_details': {'audio_tokens': 0, 'cached_tokens': 0}}, 'model_name': 'gpt-4o-2024-08-06', 'system_fingerprint': 'fp_ff092ab25e', 'finish_reason': 'stop', 'logprobs': None}, id='run-6f122d7d-ead6-4095-8351-098175e7cd8e-0', usage_metadata={'input_tokens': 239, 'output_tokens': 50, 'total_tokens': 289, 'input_token_details': {'audio': 0, 'cache_read': 0}, 'output_token_details': {'audio': 0, 'reasoning': 0}})]}"
      ]
     },
     "execution_count": 56,
     "metadata": {},
     "output_type": "execute_result"
    }
   ],
   "source": [
    "messages = [HumanMessage(content=\"Add 10 and 14.multiply the output by 2.divide the output by 5\")]\n",
    "\n",
    "react_graph.invoke({\"messages\":messages})"
   ]
  },
  {
   "cell_type": "code",
   "execution_count": null,
   "metadata": {},
   "outputs": [],
   "source": []
  }
 ],
 "metadata": {
  "kernelspec": {
   "display_name": "agent-venv",
   "language": "python",
   "name": "python3"
  },
  "language_info": {
   "codemirror_mode": {
    "name": "ipython",
    "version": 3
   },
   "file_extension": ".py",
   "mimetype": "text/x-python",
   "name": "python",
   "nbconvert_exporter": "python",
   "pygments_lexer": "ipython3",
   "version": "3.13.0"
  }
 },
 "nbformat": 4,
 "nbformat_minor": 2
}
